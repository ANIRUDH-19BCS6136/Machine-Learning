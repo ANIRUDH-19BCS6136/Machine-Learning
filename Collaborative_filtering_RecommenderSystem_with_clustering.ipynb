{
  "nbformat": 4,
  "nbformat_minor": 0,
  "metadata": {
    "colab": {
      "name": "Collaborative_filtering_RecommenderSystem with clustering.ipynb",
      "provenance": [],
      "authorship_tag": "ABX9TyOoZjuXDqjqARUmiS7lCKVm"
    },
    "kernelspec": {
      "name": "python3",
      "display_name": "Python 3"
    },
    "language_info": {
      "name": "python"
    }
  },
  "cells": [
    {
      "cell_type": "markdown",
      "metadata": {
        "id": "BdEz-d8BizB2"
      },
      "source": [
        "# Collaborative filtering for projects in the list using clustering."
      ]
    },
    {
      "cell_type": "code",
      "metadata": {
        "id": "xohMIxc0Cd-_"
      },
      "source": [
        "import warnings\n",
        "warnings.filterwarnings('ignore')"
      ],
      "execution_count": 5,
      "outputs": []
    },
    {
      "cell_type": "code",
      "metadata": {
        "id": "7y8bE-_IgPEq"
      },
      "source": [
        "import pandas as pd\n",
        "import numpy as np\n",
        "from scipy.sparse import csr_matrix\n",
        "from sklearn.neighbors import NearestNeighbors"
      ],
      "execution_count": 22,
      "outputs": []
    },
    {
      "cell_type": "code",
      "metadata": {
        "colab": {
          "base_uri": "https://localhost:8080/"
        },
        "id": "-YunJ5S7ghHm",
        "outputId": "d4c9185d-3be9-4784-c4fb-43252ddad1d0"
      },
      "source": [
        "header = ['user_id','proj_id','rating','timestamp']\n",
        "url = \"https://files.grouplens.org/datasets/movielens/ml-100k/u.data\"\n",
        "dataset = pd.read_csv(url , sep = '\\t', names = header)\n",
        "print(dataset.head())"
      ],
      "execution_count": 23,
      "outputs": [
        {
          "output_type": "stream",
          "name": "stdout",
          "text": [
            "   user_id  proj_id  rating  timestamp\n",
            "0      196      242       3  881250949\n",
            "1      186      302       3  891717742\n",
            "2       22      377       1  878887116\n",
            "3      244       51       2  880606923\n",
            "4      166      346       1  886397596\n"
          ]
        }
      ]
    },
    {
      "cell_type": "code",
      "metadata": {
        "colab": {
          "base_uri": "https://localhost:8080/"
        },
        "id": "yDUVZB3egudm",
        "outputId": "af5f584f-0f2a-433e-ef42-3721dc5c8791"
      },
      "source": [
        "n_users = dataset.user_id.unique().shape[0]\n",
        "n_items = dataset.proj_id.unique().shape[0]\n",
        "n_items = dataset['proj_id'].max()\n",
        "A = np.zeros((n_users,n_items))\n",
        "for line in dataset.itertuples():\n",
        "    A[line[1]-1,line[2]-1] = line[3]\n",
        "print(\"Original rating matrix : \",A)"
      ],
      "execution_count": 15,
      "outputs": [
        {
          "output_type": "stream",
          "name": "stdout",
          "text": [
            "Original rating matrix :  [[5. 3. 4. ... 0. 0. 0.]\n",
            " [4. 0. 0. ... 0. 0. 0.]\n",
            " [0. 0. 0. ... 0. 0. 0.]\n",
            " ...\n",
            " [5. 0. 0. ... 0. 0. 0.]\n",
            " [0. 0. 0. ... 0. 0. 0.]\n",
            " [0. 5. 0. ... 0. 0. 0.]]\n"
          ]
        }
      ]
    },
    {
      "cell_type": "code",
      "metadata": {
        "id": "4dnHglr_htkI"
      },
      "source": [
        "for i in range(len(A)):\n",
        "  for j in range(len(A[0])):\n",
        "    if A[i][j]>=3:\n",
        "      A[i][j]=1\n",
        "    else:\n",
        "      A[i][j]=0"
      ],
      "execution_count": 16,
      "outputs": []
    },
    {
      "cell_type": "code",
      "metadata": {
        "colab": {
          "base_uri": "https://localhost:8080/"
        },
        "id": "g2stsUE3h1Ub",
        "outputId": "2d239e14-ed59-494e-be0d-db555ac2b3a2"
      },
      "source": [
        "csr_sample = csr_matrix(A)\n",
        "print(csr_sample)"
      ],
      "execution_count": 17,
      "outputs": [
        {
          "output_type": "stream",
          "name": "stdout",
          "text": [
            "  (0, 0)\t1.0\n",
            "  (0, 1)\t1.0\n",
            "  (0, 2)\t1.0\n",
            "  (0, 3)\t1.0\n",
            "  (0, 4)\t1.0\n",
            "  (0, 5)\t1.0\n",
            "  (0, 6)\t1.0\n",
            "  (0, 8)\t1.0\n",
            "  (0, 9)\t1.0\n",
            "  (0, 11)\t1.0\n",
            "  (0, 12)\t1.0\n",
            "  (0, 13)\t1.0\n",
            "  (0, 14)\t1.0\n",
            "  (0, 15)\t1.0\n",
            "  (0, 16)\t1.0\n",
            "  (0, 17)\t1.0\n",
            "  (0, 18)\t1.0\n",
            "  (0, 19)\t1.0\n",
            "  (0, 21)\t1.0\n",
            "  (0, 22)\t1.0\n",
            "  (0, 23)\t1.0\n",
            "  (0, 24)\t1.0\n",
            "  (0, 25)\t1.0\n",
            "  (0, 27)\t1.0\n",
            "  (0, 29)\t1.0\n",
            "  :\t:\n",
            "  (942, 624)\t1.0\n",
            "  (942, 654)\t1.0\n",
            "  (942, 671)\t1.0\n",
            "  (942, 684)\t1.0\n",
            "  (942, 716)\t1.0\n",
            "  (942, 720)\t1.0\n",
            "  (942, 721)\t1.0\n",
            "  (942, 731)\t1.0\n",
            "  (942, 738)\t1.0\n",
            "  (942, 762)\t1.0\n",
            "  (942, 764)\t1.0\n",
            "  (942, 793)\t1.0\n",
            "  (942, 795)\t1.0\n",
            "  (942, 807)\t1.0\n",
            "  (942, 815)\t1.0\n",
            "  (942, 823)\t1.0\n",
            "  (942, 824)\t1.0\n",
            "  (942, 839)\t1.0\n",
            "  (942, 927)\t1.0\n",
            "  (942, 942)\t1.0\n",
            "  (942, 1043)\t1.0\n",
            "  (942, 1073)\t1.0\n",
            "  (942, 1187)\t1.0\n",
            "  (942, 1227)\t1.0\n",
            "  (942, 1329)\t1.0\n"
          ]
        }
      ]
    },
    {
      "cell_type": "code",
      "metadata": {
        "colab": {
          "base_uri": "https://localhost:8080/"
        },
        "id": "NRc5M7g_h4SV",
        "outputId": "043027e6-5e25-4f8a-b103-2bb1c7694059"
      },
      "source": [
        "knn = NearestNeighbors(metric='cosine', algorithm='brute', n_neighbors=3, n_jobs=-1)\n",
        "knn.fit(csr_sample)"
      ],
      "execution_count": 18,
      "outputs": [
        {
          "output_type": "execute_result",
          "data": {
            "text/plain": [
              "NearestNeighbors(algorithm='brute', leaf_size=30, metric='cosine',\n",
              "                 metric_params=None, n_jobs=-1, n_neighbors=3, p=2, radius=1.0)"
            ]
          },
          "metadata": {},
          "execution_count": 18
        }
      ]
    },
    {
      "cell_type": "code",
      "metadata": {
        "colab": {
          "base_uri": "https://localhost:8080/"
        },
        "id": "N_-0krzkh7Pa",
        "outputId": "72e0bf2c-3019-4065-97a1-988e66b33638"
      },
      "source": [
        "dataset_sort_des = dataset.sort_values(['user_id', 'timestamp'], ascending=[True, False])\n",
        "filter1 = dataset_sort_des[dataset_sort_des['user_id'] == 2].proj_id\n",
        "filter1 = filter1.tolist()\n",
        "filter1 = filter1[:20]\n",
        "print(\"Items liked by user: \",filter1)"
      ],
      "execution_count": 20,
      "outputs": [
        {
          "output_type": "stream",
          "name": "stdout",
          "text": [
            "Items liked by user:  [281, 314, 309, 308, 316, 289, 300, 304, 310, 272, 251, 50, 313, 242, 283, 311, 100, 127, 285, 302]\n"
          ]
        }
      ]
    },
    {
      "cell_type": "code",
      "metadata": {
        "colab": {
          "base_uri": "https://localhost:8080/"
        },
        "id": "1oYwzccph_o5",
        "outputId": "f40263f5-8cc1-49ae-f954-a6d5303b9702"
      },
      "source": [
        "distances1=[]\n",
        "indices1=[]\n",
        "for i in filter1:\n",
        "  distances , indices = knn.kneighbors(csr_sample[i],n_neighbors=3)\n",
        "  indices = indices.flatten()\n",
        "  indices= indices[1:]\n",
        "  indices1.extend(indices)\n",
        "print(\"Items to be recommended: \",indices1)"
      ],
      "execution_count": 21,
      "outputs": [
        {
          "output_type": "stream",
          "name": "stdout",
          "text": [
            "Items to be recommended:  [106, 219, 217, 869, 758, 246, 172, 754, 771, 815, 737, 880, 275, 681, 17, 150, 845, 449, 719, 283, 905, 265, 747, 487, 415, 392, 614, 105, 862, 573, 931, 233, 140, 44, 715, 617, 415, 416, 275, 428]\n"
          ]
        }
      ]
    }
  ]
}